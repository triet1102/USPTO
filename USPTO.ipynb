{
 "cells": [
  {
   "cell_type": "code",
   "execution_count": 1,
   "id": "d4c16a0f",
   "metadata": {},
   "outputs": [],
   "source": [
    "import pandas as pd\n",
    "import numpy as np\n",
    "import seaborn as sns\n",
    "import matplotlib.pyplot as plt\n",
    "import torch\n",
    "import torch.nn as nn\n",
    "from torchmetrics import MeanSquaredError\n",
    "from torch.utils.data import Dataset, DataLoader\n",
    "from transformers import AutoModel, AutoTokenizer\n",
    "from sklearn.model_selection import train_test_split\n",
    "import pytorch_lightning as pl\n",
    "from tqdm.auto import tqdm\n",
    "from pytorch_lightning import Trainer, seed_everything\n",
    "from pytorch_lightning import Callback\n",
    "from pytorch_lightning.loggers import CSVLogger\n",
    "from pytorch_lightning.callbacks import ModelCheckpoint, EarlyStopping\n",
    "\n",
    "from src import model as modeling\n",
    "from src import sim_dataset"
   ]
  },
  {
   "cell_type": "code",
   "execution_count": 2,
   "id": "b04b7519",
   "metadata": {},
   "outputs": [],
   "source": [
    "train_data = pd.read_csv(\"data/train.csv\")\n",
    "test_data = pd.read_csv(\"data/test.csv\")"
   ]
  },
  {
   "cell_type": "code",
   "execution_count": 3,
   "id": "9fc192cf",
   "metadata": {},
   "outputs": [],
   "source": [
    "class CFG:\n",
    "    model_name=\"bert-base-uncased\"\n",
    "    val_size=0.25\n",
    "    max_len=64\n",
    "    batch_size=4\n",
    "    epochs=3\n",
    "    lr=2e-5\n",
    "    max_lr=1e-3\n",
    "    steps_per_epoch=None\n",
    "    pct_start=0.3\n",
    "    div_factor=1e+2\n",
    "    final_div_factor=1e+4\n",
    "    accumulate=1\n",
    "    patience=3\n",
    "    monitor=\"val_loss\"\n",
    "    seed=42\n",
    "    debug=True"
   ]
  },
  {
   "cell_type": "code",
   "execution_count": 4,
   "id": "8635ee8a",
   "metadata": {},
   "outputs": [
    {
     "data": {
      "text/plain": [
       "mappingproxy({'__module__': '__main__',\n",
       "              'model_name': 'bert-base-uncased',\n",
       "              'val_size': 0.25,\n",
       "              'max_len': 64,\n",
       "              'batch_size': 4,\n",
       "              'epochs': 3,\n",
       "              'lr': 2e-05,\n",
       "              'max_lr': 0.001,\n",
       "              'steps_per_epoch': None,\n",
       "              'pct_start': 0.3,\n",
       "              'div_factor': 100.0,\n",
       "              'final_div_factor': 10000.0,\n",
       "              'accumulate': 1,\n",
       "              'patience': 3,\n",
       "              'monitor': 'val_loss',\n",
       "              'seed': 42,\n",
       "              'debug': True,\n",
       "              '__dict__': <attribute '__dict__' of 'CFG' objects>,\n",
       "              '__weakref__': <attribute '__weakref__' of 'CFG' objects>,\n",
       "              '__doc__': None})"
      ]
     },
     "execution_count": 4,
     "metadata": {},
     "output_type": "execute_result"
    }
   ],
   "source": [
    "CFG.__dict__"
   ]
  },
  {
   "cell_type": "code",
   "execution_count": 5,
   "id": "3a1cb8db",
   "metadata": {},
   "outputs": [],
   "source": [
    "if CFG.debug == True:\n",
    "    train_data = train_data.iloc[:200]\n",
    "\n",
    "scores = train_data.score.values\n",
    "train_data.drop(\"score\", inplace=True, axis=1)\n",
    "train_data, val_data, train_labels, val_labels = train_test_split(train_data, scores,\n",
    "                                                                 stratify=scores,\n",
    "                                                                 test_size=CFG.val_size,\n",
    "                                                                 random_state=CFG.seed)\n",
    "\n",
    "train_data[\"score\"] = train_labels\n",
    "val_data[\"score\"] =  val_labels\n",
    "\n",
    "tokenizer = AutoTokenizer.from_pretrained(CFG.model_name)\n",
    "train_dataset = sim_dataset.PhraseSimilarityDataset(train_data, tokenizer, CFG.max_len)\n",
    "\n",
    "val_dataset = sim_dataset.PhraseSimilarityDataset(val_data, tokenizer, CFG.max_len)\n",
    "test_dataset = sim_dataset.PhraseSimilarityTestset(test_data, tokenizer, CFG.max_len)"
   ]
  },
  {
   "cell_type": "code",
   "execution_count": 6,
   "id": "e5567133",
   "metadata": {},
   "outputs": [],
   "source": [
    "train_dataloader = DataLoader(train_dataset, batch_size=CFG.batch_size, shuffle=True)\n",
    "val_dataloader = DataLoader(val_dataset, batch_size=CFG.batch_size, shuffle=False)\n",
    "test_dataloader = DataLoader(test_dataset, batch_size=CFG.batch_size, shuffle=False)"
   ]
  },
  {
   "cell_type": "code",
   "execution_count": 7,
   "id": "538fba23",
   "metadata": {},
   "outputs": [
    {
     "name": "stdout",
     "output_type": "stream",
     "text": [
      "steps_per_epoch: 38\n",
      "total_steps: 114\n",
      "num_warmups: 11\n",
      "num_decreases: 103\n"
     ]
    }
   ],
   "source": [
    "steps_per_epoch = len(train_dataloader)\n",
    "print(f\"steps_per_epoch: {steps_per_epoch}\")\n",
    "total_steps = steps_per_epoch * CFG.epochs\n",
    "print(f\"total_steps: {total_steps}\")\n",
    "\n",
    "num_warmups = int(total_steps * 0.1)\n",
    "print(f\"num_warmups: {num_warmups}\")\n",
    "\n",
    "num_decreases = total_steps - num_warmups\n",
    "print(f\"num_decreases: {num_decreases}\")"
   ]
  },
  {
   "cell_type": "code",
   "execution_count": 8,
   "id": "379e63e3",
   "metadata": {},
   "outputs": [],
   "source": [
    "logger = CSVLogger(save_dir='./', name=CFG.model_name.split('/')[-1]+'_log_test')\n",
    "logger.log_hyperparams(CFG.__dict__)"
   ]
  },
  {
   "cell_type": "code",
   "execution_count": 9,
   "id": "99839970",
   "metadata": {},
   "outputs": [],
   "source": [
    "checkpoint_callback = ModelCheckpoint(monitor=CFG.monitor,\n",
    "                                     save_top_k=1,\n",
    "                                     save_last=True,\n",
    "                                     save_weights_only=True,\n",
    "                                     filename=\"{epoch:02d}-{valid_loss:.4f}-{valid_acc:.4f}\",\n",
    "                                     verbose=False,\n",
    "                                     mode=\"min\")"
   ]
  },
  {
   "cell_type": "code",
   "execution_count": 10,
   "id": "32083ec7",
   "metadata": {},
   "outputs": [],
   "source": [
    "early_stop_callback = EarlyStopping(monitor=CFG.monitor,\n",
    "                                   patience=CFG.patience,\n",
    "                                   verbose=False,\n",
    "                                   mode=\"min\")"
   ]
  },
  {
   "cell_type": "code",
   "execution_count": 11,
   "id": "2fe17950",
   "metadata": {},
   "outputs": [
    {
     "name": "stderr",
     "output_type": "stream",
     "text": [
      "Some weights of the model checkpoint at bert-base-uncased were not used when initializing BertModel: ['cls.predictions.transform.LayerNorm.weight', 'cls.seq_relationship.bias', 'cls.predictions.bias', 'cls.predictions.decoder.weight', 'cls.predictions.transform.dense.weight', 'cls.predictions.transform.dense.bias', 'cls.seq_relationship.weight', 'cls.predictions.transform.LayerNorm.bias']\n",
      "- This IS expected if you are initializing BertModel from the checkpoint of a model trained on another task or with another architecture (e.g. initializing a BertForSequenceClassification model from a BertForPreTraining model).\n",
      "- This IS NOT expected if you are initializing BertModel from the checkpoint of a model that you expect to be exactly identical (initializing a BertForSequenceClassification model from a BertForSequenceClassification model).\n"
     ]
    },
    {
     "name": "stdout",
     "output_type": "stream",
     "text": [
      "OK init\n"
     ]
    }
   ],
   "source": [
    "model = modeling.PhraseSimilarityModelImpl(CFG.model_name)\n",
    "criterion = nn.HuberLoss(reduction='mean', delta=1.0)\n",
    "metric = MeanSquaredError()\n",
    "driver = modeling.PhraseSimilarityModel(model=model,\n",
    "                                   lr=CFG.lr,\n",
    "                                   num_warmups=num_warmups,\n",
    "                                   num_decreases=num_decreases,\n",
    "                                   criterion=criterion,\n",
    "                                   metric=metric)"
   ]
  },
  {
   "cell_type": "code",
   "execution_count": 12,
   "id": "4ceff97a",
   "metadata": {},
   "outputs": [
    {
     "name": "stdout",
     "output_type": "stream",
     "text": [
      "OK inside configure\n",
      "1e-06\n",
      "Scheduler learning rate2.7272727272727272e-06\n"
     ]
    },
    {
     "data": {
      "text/plain": [
       "([Adam (\n",
       "  Parameter Group 0\n",
       "      amsgrad: False\n",
       "      betas: (0.9, 0.999)\n",
       "      eps: 1e-08\n",
       "      initial_lr: 2e-05\n",
       "      lr: 2.7272727272727272e-06\n",
       "      maximize: False\n",
       "      weight_decay: 0\n",
       "  )],\n",
       " [{'scheduler': <src.lr_scheduler.WarmupLRScheduler at 0x7f9bd11cc400>,\n",
       "   'interval': 'step',\n",
       "   'frequency': 1}])"
      ]
     },
     "execution_count": 12,
     "metadata": {},
     "output_type": "execute_result"
    }
   ],
   "source": [
    "driver.configure_optimizers()"
   ]
  },
  {
   "cell_type": "code",
   "execution_count": 13,
   "id": "587e12bb",
   "metadata": {},
   "outputs": [
    {
     "name": "stderr",
     "output_type": "stream",
     "text": [
      "GPU available: False, used: False\n",
      "TPU available: False, using: 0 TPU cores\n",
      "IPU available: False, using: 0 IPUs\n",
      "HPU available: False, using: 0 HPUs\n"
     ]
    }
   ],
   "source": [
    "trainer = Trainer(\n",
    "    max_epochs=CFG.epochs,\n",
    "    accumulate_grad_batches=CFG.accumulate,\n",
    "    callbacks=[checkpoint_callback, early_stop_callback], \n",
    "    logger=logger,\n",
    "    weights_summary='top',\n",
    ")"
   ]
  },
  {
   "cell_type": "code",
   "execution_count": 14,
   "id": "60d441f5",
   "metadata": {},
   "outputs": [
    {
     "name": "stderr",
     "output_type": "stream",
     "text": [
      "\n",
      "  | Name      | Type                      | Params\n",
      "--------------------------------------------------------\n",
      "0 | model     | PhraseSimilarityModelImpl | 109 M \n",
      "1 | criterion | HuberLoss                 | 0     \n",
      "2 | metric    | MeanSquaredError          | 0     \n",
      "--------------------------------------------------------\n",
      "109 M     Trainable params\n",
      "0         Non-trainable params\n",
      "109 M     Total params\n",
      "437.932   Total estimated model params size (MB)\n",
      "/anaconda/envs/USPTO/lib/python3.8/site-packages/pytorch_lightning/core/saving.py:404: UserWarning: Skipping '__dict__' parameter because it is not possible to safely dump to YAML.\n",
      "  warn(f\"Skipping '{k}' parameter because it is not possible to safely dump to YAML.\")\n",
      "/anaconda/envs/USPTO/lib/python3.8/site-packages/pytorch_lightning/core/saving.py:404: UserWarning: Skipping '__weakref__' parameter because it is not possible to safely dump to YAML.\n",
      "  warn(f\"Skipping '{k}' parameter because it is not possible to safely dump to YAML.\")\n"
     ]
    },
    {
     "name": "stdout",
     "output_type": "stream",
     "text": [
      "OK inside configure\n",
      "1e-06\n",
      "Scheduler learning rate2.7272727272727272e-06\n"
     ]
    },
    {
     "data": {
      "application/vnd.jupyter.widget-view+json": {
       "model_id": "",
       "version_major": 2,
       "version_minor": 0
      },
      "text/plain": [
       "Sanity Checking: 0it [00:00, ?it/s]"
      ]
     },
     "metadata": {},
     "output_type": "display_data"
    },
    {
     "name": "stderr",
     "output_type": "stream",
     "text": [
      "/anaconda/envs/USPTO/lib/python3.8/site-packages/pytorch_lightning/trainer/connectors/data_connector.py:240: PossibleUserWarning: The dataloader, val_dataloader 0, does not have many workers which may be a bottleneck. Consider increasing the value of the `num_workers` argument` (try 4 which is the number of cpus on this machine) in the `DataLoader` init to improve performance.\n",
      "  rank_zero_warn(\n",
      "/anaconda/envs/USPTO/lib/python3.8/site-packages/pytorch_lightning/trainer/connectors/data_connector.py:240: PossibleUserWarning: The dataloader, train_dataloader, does not have many workers which may be a bottleneck. Consider increasing the value of the `num_workers` argument` (try 4 which is the number of cpus on this machine) in the `DataLoader` init to improve performance.\n",
      "  rank_zero_warn(\n",
      "/anaconda/envs/USPTO/lib/python3.8/site-packages/pytorch_lightning/trainer/trainer.py:1927: PossibleUserWarning: The number of training batches (38) is smaller than the logging interval Trainer(log_every_n_steps=50). Set a lower value for log_every_n_steps if you want to see logs for the training epoch.\n",
      "  rank_zero_warn(\n"
     ]
    },
    {
     "data": {
      "application/vnd.jupyter.widget-view+json": {
       "model_id": "9c79488bab9c45cb849c87b332bc1a68",
       "version_major": 2,
       "version_minor": 0
      },
      "text/plain": [
       "Training: 0it [00:00, ?it/s]"
      ]
     },
     "metadata": {},
     "output_type": "display_data"
    },
    {
     "name": "stdout",
     "output_type": "stream",
     "text": [
      "2.7272727272727272e-06\n",
      "4.454545454545455e-06\n",
      "6.181818181818182e-06\n",
      "7.909090909090909e-06\n",
      "9.636363636363638e-06\n",
      "1.1363636363636365e-05\n",
      "1.3090909090909092e-05\n",
      "1.4818181818181819e-05\n",
      "1.6545454545454548e-05\n",
      "1.8272727272727275e-05\n",
      "2e-05\n",
      "1.9815533980582525e-05\n",
      "1.9631067961165052e-05\n",
      "1.9446601941747576e-05\n",
      "1.92621359223301e-05\n",
      "1.9077669902912623e-05\n",
      "1.889320388349515e-05\n",
      "1.8708737864077673e-05\n",
      "1.8524271844660197e-05\n",
      "1.833980582524272e-05\n",
      "1.8155339805825244e-05\n",
      "1.797087378640777e-05\n",
      "1.7786407766990294e-05\n",
      "1.7601941747572818e-05\n",
      "1.741747572815534e-05\n",
      "1.7233009708737865e-05\n",
      "1.7048543689320392e-05\n",
      "1.6864077669902915e-05\n",
      "1.667961165048544e-05\n",
      "1.6495145631067962e-05\n",
      "1.6310679611650486e-05\n",
      "1.612621359223301e-05\n",
      "1.5941747572815536e-05\n",
      "1.575728155339806e-05\n",
      "1.5572815533980583e-05\n",
      "1.5388349514563107e-05\n",
      "1.5203883495145634e-05\n",
      "1.5019417475728157e-05\n"
     ]
    },
    {
     "data": {
      "application/vnd.jupyter.widget-view+json": {
       "model_id": "",
       "version_major": 2,
       "version_minor": 0
      },
      "text/plain": [
       "Validation: 0it [00:00, ?it/s]"
      ]
     },
     "metadata": {},
     "output_type": "display_data"
    },
    {
     "name": "stdout",
     "output_type": "stream",
     "text": [
      "1.4834951456310681e-05\n",
      "1.4650485436893206e-05\n",
      "1.446601941747573e-05\n",
      "1.4281553398058255e-05\n",
      "1.4097087378640779e-05\n",
      "1.3912621359223302e-05\n",
      "1.3728155339805827e-05\n",
      "1.3543689320388351e-05\n",
      "1.3359223300970876e-05\n",
      "1.31747572815534e-05\n",
      "1.2990291262135925e-05\n",
      "1.2805825242718448e-05\n",
      "1.2621359223300972e-05\n",
      "1.2436893203883497e-05\n",
      "1.225242718446602e-05\n",
      "1.2067961165048546e-05\n",
      "1.188349514563107e-05\n",
      "1.1699029126213595e-05\n",
      "1.1514563106796118e-05\n",
      "1.1330097087378642e-05\n",
      "1.1145631067961167e-05\n",
      "1.096116504854369e-05\n",
      "1.0776699029126216e-05\n",
      "1.059223300970874e-05\n",
      "1.0407766990291263e-05\n",
      "1.0223300970873788e-05\n",
      "1.0038834951456312e-05\n",
      "9.854368932038837e-06\n",
      "9.66990291262136e-06\n",
      "9.485436893203886e-06\n",
      "9.30097087378641e-06\n",
      "9.116504854368933e-06\n",
      "8.932038834951458e-06\n",
      "8.747572815533982e-06\n",
      "8.563106796116505e-06\n",
      "8.37864077669903e-06\n",
      "8.194174757281554e-06\n",
      "8.009708737864079e-06\n"
     ]
    },
    {
     "data": {
      "application/vnd.jupyter.widget-view+json": {
       "model_id": "",
       "version_major": 2,
       "version_minor": 0
      },
      "text/plain": [
       "Validation: 0it [00:00, ?it/s]"
      ]
     },
     "metadata": {},
     "output_type": "display_data"
    },
    {
     "name": "stdout",
     "output_type": "stream",
     "text": [
      "7.825242718446603e-06\n",
      "7.640776699029128e-06\n",
      "7.4563106796116505e-06\n",
      "7.271844660194175e-06\n",
      "7.087378640776699e-06\n",
      "6.902912621359224e-06\n",
      "6.718446601941748e-06\n",
      "6.5339805825242724e-06\n",
      "6.349514563106797e-06\n",
      "6.16504854368932e-06\n",
      "5.980582524271845e-06\n",
      "5.796116504854369e-06\n",
      "5.6116504854368935e-06\n",
      "5.427184466019418e-06\n",
      "5.242718446601942e-06\n",
      "5.058252427184466e-06\n",
      "4.87378640776699e-06\n",
      "4.689320388349515e-06\n",
      "4.504854368932039e-06\n",
      "4.320388349514563e-06\n",
      "4.135922330097088e-06\n",
      "3.951456310679612e-06\n",
      "3.7669902912621365e-06\n",
      "3.58252427184466e-06\n",
      "3.3980582524271844e-06\n",
      "3.213592233009709e-06\n",
      "3.029126213592233e-06\n",
      "2.8446601941747576e-06\n",
      "2.660194174757282e-06\n",
      "2.475728155339806e-06\n",
      "2.29126213592233e-06\n",
      "2.1067961165048543e-06\n",
      "1.9223300970873787e-06\n",
      "1.737864077669903e-06\n",
      "1.5533980582524272e-06\n",
      "1.3689320388349514e-06\n",
      "1.1844660194174758e-06\n",
      "1e-06\n"
     ]
    },
    {
     "data": {
      "application/vnd.jupyter.widget-view+json": {
       "model_id": "",
       "version_major": 2,
       "version_minor": 0
      },
      "text/plain": [
       "Validation: 0it [00:00, ?it/s]"
      ]
     },
     "metadata": {},
     "output_type": "display_data"
    }
   ],
   "source": [
    "trainer.fit(driver, train_dataloaders=train_dataloader, val_dataloaders=val_dataloader)"
   ]
  },
  {
   "cell_type": "code",
   "execution_count": 15,
   "id": "15c81953",
   "metadata": {},
   "outputs": [
    {
     "data": {
      "text/plain": [
       "<src.lr_scheduler.WarmupLRScheduler at 0x7f9bd118eb50>"
      ]
     },
     "execution_count": 15,
     "metadata": {},
     "output_type": "execute_result"
    }
   ],
   "source": [
    "driver.sch"
   ]
  },
  {
   "cell_type": "code",
   "execution_count": 17,
   "id": "96439b46",
   "metadata": {},
   "outputs": [
    {
     "data": {
      "text/plain": [
       "114"
      ]
     },
     "execution_count": 17,
     "metadata": {},
     "output_type": "execute_result"
    }
   ],
   "source": [
    "len(driver.lrs)"
   ]
  },
  {
   "cell_type": "code",
   "execution_count": 16,
   "id": "d243e968",
   "metadata": {},
   "outputs": [
    {
     "data": {
      "image/png": "[encoded data removed]",
      "text/plain": [
       "<Figure size 640x480 with 1 Axes>"
      ]
     },
     "metadata": {},
     "output_type": "display_data"
    }
   ],
   "source": [
    "plt.plot(driver.lrs)\n",
    "plt.show()"
   ]
  }
 ],
 "metadata": {
  "kernelspec": {
   "display_name": "USPTO",
   "language": "python",
   "name": "uspto"
  },
  "language_info": {
   "codemirror_mode": {
    "name": "ipython",
    "version": 3
   },
   "file_extension": ".py",
   "mimetype": "text/x-python",
   "name": "python",
   "nbconvert_exporter": "python",
   "pygments_lexer": "ipython3",
   "version": "3.8.13"
  }
 },
 "nbformat": 4,
 "nbformat_minor": 5
}
